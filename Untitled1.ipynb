{
  "nbformat": 4,
  "nbformat_minor": 0,
  "metadata": {
    "colab": {
      "provenance": [],
      "authorship_tag": "ABX9TyP/6iARAgElB3FuCmZrjJwU",
      "include_colab_link": true
    },
    "kernelspec": {
      "name": "python3",
      "display_name": "Python 3"
    },
    "language_info": {
      "name": "python"
    }
  },
  "cells": [
    {
      "cell_type": "markdown",
      "metadata": {
        "id": "view-in-github",
        "colab_type": "text"
      },
      "source": [
        "<a href=\"https://colab.research.google.com/github/Rangarajulokesh/AIML-2024-25/blob/main/Untitled1.ipynb\" target=\"_parent\"><img src=\"https://colab.research.google.com/assets/colab-badge.svg\" alt=\"Open In Colab\"/></a>"
      ]
    },
    {
      "cell_type": "code",
      "execution_count": null,
      "metadata": {
        "id": "ChZErZg_C8C6"
      },
      "outputs": [],
      "source": []
    },
    {
      "cell_type": "markdown",
      "source": [
        "Prediction of Health news and their reviews\n",
        "Q1. Identify the Top 5 health new of BBC, MSN, NYT, FOX most appreciated?\n",
        " Q2. List the top 5 diseases discussed the most?\n",
        "   Q3. Identify the Health news with the most users discussion in Twitter Health News in Twitter 20.\n",
        "    Q4. Name the Health news feed with highest reputation? Q5. Most tweeted health news among the 5 tweet channels list?"
      ],
      "metadata": {
        "id": "7CzU-S-pC_Sx"
      }
    },
    {
      "cell_type": "code",
      "source": [
        "import requests\n",
        "from bs4 import BeautifulSoup\n",
        "\n",
        "# Function to get top health news from multiple websites\n",
        "def get_health_news():\n",
        "    urls = {\n",
        "        'BBC': 'https://www.bbc.com/news/health',\n",
        "        'MSN': 'https://www.msn.com/en-us/health',\n",
        "        'NYT': 'https://www.nytimes.com/section/health',\n",
        "        'FOX': 'https://www.foxnews.com/category/health'\n",
        "    }\n",
        "\n",
        "    # Extract titles from each website\n",
        "    news_data = {}\n",
        "\n",
        "    for site, url in urls.items():\n",
        "        response = requests.get(url)\n",
        "        soup = BeautifulSoup(response.text, 'html.parser')\n",
        "\n",
        "        # Extracting the top news from each page\n",
        "        if site == 'BBC':\n",
        "            titles = [title.text for title in soup.find_all('h3')]\n",
        "        elif site == 'MSN':\n",
        "            titles = [title.text for title in soup.find_all('a', class_='title')]\n",
        "        elif site == 'NYT':\n",
        "            titles = [title.text for title in soup.find_all('h2')]\n",
        "        elif site == 'FOX':\n",
        "            titles = [title.text for title in soup.find_all('h3')]\n",
        "\n",
        "        news_data[site] = titles[:5]  # Top 5 titles\n",
        "\n",
        "    return news_data\n",
        "\n",
        "# Get and print top news from each site\n",
        "health_news = get_health_news()\n",
        "print(health_news)\n"
      ],
      "metadata": {
        "id": "QRFe9VEfKHP9",
        "outputId": "06801448-3d6c-494f-a0b1-f863ff25d5db",
        "colab": {
          "base_uri": "https://localhost:8080/"
        }
      },
      "execution_count": 7,
      "outputs": [
        {
          "output_type": "stream",
          "name": "stdout",
          "text": [
            "{'BBC': ['10:29NHS trust could take years to balance budget - boss, published at 10:29NHS trust could take years to balance budget - boss', \"09:42I'll never stop fighting for A&E's future - MP, published at 09:42I'll never stop fighting for A&E's future - MP\", \"09:06'Health hubs for women would benefit everyone', published at 09:06'Health hubs for women would benefit everyone'\", \"07:16Hub to tackle health issues could 'change lives', published at 07:16Hub to tackle health issues could 'change lives'\", '07:07Star of 1960s blood donor film makes new appeal, published at 07:07Star of 1960s blood donor film makes new appeal'], 'MSN': [], 'NYT': ['Highlights', ' The New Old Age', 'From Well', 'Latest', 'Follow Us'], 'FOX': []}\n"
          ]
        }
      ]
    },
    {
      "cell_type": "code",
      "source": [
        "from collections import Counter\n",
        "\n",
        "# Sample data from news articles discussing diseases\n",
        "diseases = [\n",
        "    'COVID-19', 'Diabetes', 'Heart Disease', 'Long COVID', 'Obesity',\n",
        "    'COVID-19', 'Diabetes', 'Obesity', 'Cancer', 'Stroke',\n",
        "    'Obesity', 'Mental Health', 'Heart Disease', 'Alzheimer’s Disease'\n",
        "]\n",
        "\n",
        "# Count frequency of diseases\n",
        "disease_counter = Counter(diseases)\n",
        "top_5_diseases = disease_counter.most_common(5)\n",
        "\n",
        "print(top_5_diseases)\n"
      ],
      "metadata": {
        "id": "8Coa3PMIKLHx",
        "outputId": "887598df-5e33-415f-f61c-82b24c8adf14",
        "colab": {
          "base_uri": "https://localhost:8080/"
        }
      },
      "execution_count": 8,
      "outputs": [
        {
          "output_type": "stream",
          "name": "stdout",
          "text": [
            "[('Obesity', 3), ('COVID-19', 2), ('Diabetes', 2), ('Heart Disease', 2), ('Long COVID', 1)]\n"
          ]
        }
      ]
    },
    {
      "source": [
        "import tweepy\n",
        "from collections import Counter\n",
        "\n",
        "# Twitter API credentials (replace these with your own)\n",
        "consumer_key = 'your_consumer_key'  # Replace with your actual consumer key\n",
        "consumer_secret = 'your_consumer_secret'  # Replace with your actual consumer secret\n",
        "access_token = 'your_access_token'  # Replace with your actual access token\n",
        "access_token_secret = 'your_access_token_secret'  # Replace with your actual access token secret\n",
        "\n",
        "# Authenticating to Twitter API\n",
        "auth = tweepy.OAuthHandler(consumer_key, consumer_secret)\n",
        "auth.set_access_token(access_token, access_token_secret)\n",
        "api = tweepy.API(auth)\n",
        "\n",
        "# Function to get the most discussed health news on Twitter for a specific topic\n",
        "def get_most_discussed_health_news(topic):\n",
        "    # Add try-except block to handle potential errors\n",
        "    try:\n",
        "        tweets = tweepy.Cursor(api.search_tweets, q=topic, lang='en', result_type='recent').items(100)  # Fetch 100 recent tweets\n",
        "        tweet_texts = [tweet.text for tweet in tweets]  # Extract tweet texts\n",
        "        tweet_count = Counter(tweet_texts)  # Count frequency of tweet occurrences\n",
        "        most_discussed = tweet_count.most_common(1)  # Get the most common tweet\n",
        "        return most_discussed\n",
        "    except tweepy.errors.Unauthorized as e:\n",
        "        print(f\"Error: {e}\")\n",
        "        print(\"Please check your Twitter API credentials and ensure your access token is valid.\")\n",
        "        return None  # or raise the exception again if you want to stop the execution\n",
        "\n",
        "# Example topic to search: 'Long COVID'\n",
        "most_discussed_news = get_most_discussed_health_news('Long COVID')\n",
        "print(\"Most discussed health news:\", most_discussed_news)"
      ],
      "cell_type": "code",
      "metadata": {
        "id": "9qypUraILW4p",
        "outputId": "7fad0d9a-0c89-40bf-b310-65733021d8cd",
        "colab": {
          "base_uri": "https://localhost:8080/"
        }
      },
      "execution_count": 17,
      "outputs": [
        {
          "output_type": "stream",
          "name": "stdout",
          "text": [
            "Error: 401 Unauthorized\n",
            "89 - Invalid or expired token.\n",
            "Please check your Twitter API credentials and ensure your access token is valid.\n",
            "Most discussed health news: None\n"
          ]
        }
      ]
    },
    {
      "cell_type": "code",
      "source": [
        "# Assuming a reputation score based on user reviews or engagements on articles\n",
        "# Example reputation score function\n",
        "def calculate_reputation(news_source):\n",
        "    reputation_scores = {\n",
        "        'BBC': 90,\n",
        "        'NYT': 85,\n",
        "        'MSN': 80,\n",
        "        'FOX': 75\n",
        "    }\n",
        "    return reputation_scores.get(news_source, 0)\n",
        "\n",
        "# Get highest reputation health news feed\n",
        "def get_highest_reputation_feed():\n",
        "    sources = ['BBC', 'NYT', 'MSN', 'FOX']\n",
        "    reputation_data = {source: calculate_reputation(source) for source in sources}\n",
        "    highest_reputation = max(reputation_data, key=reputation_data.get)\n",
        "    return highest_reputation\n",
        "\n",
        "highest_reputation_feed = get_highest_reputation_feed()\n",
        "print(highest_reputation_feed)\n"
      ],
      "metadata": {
        "id": "NuPjmMXQLEC-",
        "outputId": "d09e9dcc-31ce-4d9b-8132-2ac04c2b8014",
        "colab": {
          "base_uri": "https://localhost:8080/"
        }
      },
      "execution_count": 15,
      "outputs": [
        {
          "output_type": "stream",
          "name": "stdout",
          "text": [
            "BBC\n"
          ]
        }
      ]
    },
    {
      "cell_type": "code",
      "source": [
        "# Example list of tweet channels\n",
        "tweet_channels = [\n",
        "    '@BBCHealth', '@MSNHealth', '@NYTHealth', '@FOXHealth', '@CNNHealth'\n",
        "]\n",
        "\n",
        "# Example function to get tweet count for a specific news topic\n",
        "def get_most_tweeted_health_news(channel):\n",
        "    # Assuming function that can get tweet count from each channel\n",
        "    tweet_counts = {\n",
        "        '@BBCHealth': 1200,\n",
        "        '@MSNHealth': 900,\n",
        "        '@NYTHealth': 1100,\n",
        "        '@FOXHealth': 800,\n",
        "        '@CNNHealth': 950\n",
        "    }\n",
        "    return tweet_counts.get(channel, 0)\n",
        "\n",
        "# Get the channel with the most tweeted health news\n",
        "most_tweeted_channel = max(tweet_channels, key=get_most_tweeted_health_news)\n",
        "print(most_tweeted_channel)\n"
      ],
      "metadata": {
        "id": "awcqRVdPLK_J",
        "outputId": "432027b9-7410-4da5-9fc0-bea6a3a87d66",
        "colab": {
          "base_uri": "https://localhost:8080/"
        }
      },
      "execution_count": 16,
      "outputs": [
        {
          "output_type": "stream",
          "name": "stdout",
          "text": [
            "@BBCHealth\n"
          ]
        }
      ]
    },
    {
      "cell_type": "code",
      "source": [],
      "metadata": {
        "id": "VZ8NSBcNLK2L"
      },
      "execution_count": null,
      "outputs": []
    }
  ]
}