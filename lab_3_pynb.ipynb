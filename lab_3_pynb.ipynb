{
  "nbformat": 4,
  "nbformat_minor": 0,
  "metadata": {
    "colab": {
      "provenance": [],
      "authorship_tag": "ABX9TyOVamsV4MNxYNkZyI6KxusB",
      "include_colab_link": true
    },
    "kernelspec": {
      "name": "python3",
      "display_name": "Python 3"
    },
    "language_info": {
      "name": "python"
    }
  },
  "cells": [
    {
      "cell_type": "markdown",
      "metadata": {
        "id": "view-in-github",
        "colab_type": "text"
      },
      "source": [
        "<a href=\"https://colab.research.google.com/github/Rangarajulokesh/AIML-2024-25/blob/main/lab_3_pynb.ipynb\" target=\"_parent\"><img src=\"https://colab.research.google.com/assets/colab-badge.svg\" alt=\"Open In Colab\"/></a>"
      ]
    },
    {
      "cell_type": "code",
      "execution_count": 3,
      "metadata": {
        "id": "3-K8EUPBON1G"
      },
      "outputs": [],
      "source": [
        "from collections import namedtuple,Counter, defaultdict\n",
        "import random\n",
        "import math\n",
        "import functools\n",
        "cache= functools.lru_cache(10**6)"
      ]
    },
    {
      "cell_type": "code",
      "source": [
        "class Game:\n",
        "  def actions (self , state ):\n",
        "      ##Return a collection of the allowable moves from this state .”””\n",
        "      raise NotImplementedError\n",
        "\n",
        "  def result (self , state , move ):\n",
        "      ##Return the state that results from making a move from a state .”””\n",
        "      raise NotImplementedError\n",
        "\n",
        "  def is_terminal (self , state ):\n",
        "      ##Return True if this is a final state for the game.”””\n",
        "      return not self. actions (state)\n",
        "\n",
        "  def utility (self , state , player ):\n",
        "      ##Return the value of this final state to player.”””\n",
        "      raise NotImplementedError\n",
        "\n",
        "\n"
      ],
      "metadata": {
        "id": "DaLZkDwkQk3a"
      },
      "execution_count": 4,
      "outputs": []
    },
    {
      "cell_type": "code",
      "source": [
        "def play_game (game , strategies : dict , verbose =False ):\n",
        "    ##Play a turn−taking game. ‘strategies ‘ is a {player name: function} dict ,\n",
        "    ##where function(state , game) is used to get the player ’s move.”””\n",
        "    state = game.initial\n",
        "    while not game. is_terminal (state ):\n",
        "        player = state.to_move\n",
        "        move = strategies [ player ](game , state)\n",
        "        state = game. result (state , move)\n",
        "        if verbose :\n",
        "            print(\"Player\", player , \"move:\", move)\n",
        "            print(state)\n",
        "\n",
        "    return state"
      ],
      "metadata": {
        "id": "36C8swL8Rg06"
      },
      "execution_count": 9,
      "outputs": []
    },
    {
      "cell_type": "code",
      "source": [
        "def minimax_search(game, state):\n",
        "      ## Search game tree to determine best move; return (value, move) pair.\n",
        "          player = state.to_move\n",
        "\n",
        "          def max_value(state):\n",
        "              if game.is_terminal(state):\n",
        "                   return game.utility(state, player), None\n",
        "              v, move = -infinity, None\n",
        "              for a in game.actions(state):\n",
        "                  v2, _ = min_value(game.result(state, a))\n",
        "                  if v2 > v:\n",
        "                      v, move = v2, a\n",
        "                      return v, move\n",
        "\n",
        "def min_value(state):\n",
        "    if game.is_terminal(state):\n",
        "        return game.utility(state, player), None\n",
        "    v, move = +infinity, None\n",
        "for a in game.actions(state):\n",
        "     v2, _ = max_value(game.result(state, a))\n",
        "       if v2 < v:\n",
        "                                                                                                                                                                                  v, move = v2, a\n",
        "                                                                                                                                                                                          return v, move\n",
        "\n",
        "                                                                                                                                                                                              return max_value(state)\n",
        "                                                                                                                                                                                                  infinity=math.inf\n"
      ],
      "metadata": {
        "id": "LuVtb2XGZggy"
      },
      "execution_count": null,
      "outputs": []
    }
  ]
}